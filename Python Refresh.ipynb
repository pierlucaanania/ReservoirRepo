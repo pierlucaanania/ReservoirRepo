{
 "cells": [
  {
   "cell_type": "markdown",
   "id": "706294ac",
   "metadata": {},
   "source": [
    "Lec 02 Sintassi"
   ]
  },
  {
   "cell_type": "code",
   "execution_count": 1,
   "id": "23d3a304",
   "metadata": {},
   "outputs": [
    {
     "name": "stdout",
     "output_type": "stream",
     "text": [
      "Inserisci caratteri: hello\n",
      "hello\n"
     ]
    }
   ],
   "source": [
    "messaggio = input('Inserisci caratteri: ')\n",
    "\n",
    "print(messaggio)"
   ]
  },
  {
   "cell_type": "markdown",
   "id": "c9587908",
   "metadata": {},
   "source": [
    "Lec 03 Variabili"
   ]
  },
  {
   "cell_type": "code",
   "execution_count": 5,
   "id": "a0de4090",
   "metadata": {},
   "outputs": [
    {
     "name": "stdout",
     "output_type": "stream",
     "text": [
      "Variables are a: 1 and b: 2\n"
     ]
    }
   ],
   "source": [
    "a, b = 1,2\n",
    "print(f'Variables are a: {a} and b: {b}')"
   ]
  },
  {
   "cell_type": "code",
   "execution_count": 8,
   "id": "b4d75757",
   "metadata": {},
   "outputs": [
    {
     "data": {
      "text/plain": [
       "True"
      ]
     },
     "execution_count": 8,
     "metadata": {},
     "output_type": "execute_result"
    }
   ],
   "source": [
    "x = y = z = 3\n",
    "y == x"
   ]
  },
  {
   "cell_type": "code",
   "execution_count": 11,
   "id": "2912ae38",
   "metadata": {},
   "outputs": [
    {
     "name": "stdout",
     "output_type": "stream",
     "text": [
      "1 2 3 4\n"
     ]
    }
   ],
   "source": [
    "lista = [1,2,3,4]\n",
    "a,b,c,d = lista\n",
    "print(a,b,c,d)"
   ]
  },
  {
   "cell_type": "code",
   "execution_count": 17,
   "id": "4d0c5fe3",
   "metadata": {},
   "outputs": [
    {
     "name": "stdout",
     "output_type": "stream",
     "text": [
      "0\n",
      "12\n",
      "24\n",
      "36\n",
      "48\n",
      "Final:48\n"
     ]
    }
   ],
   "source": [
    "num_operazioni = 5\n",
    "result = 1\n",
    "for i in range(num_operazioni):\n",
    "    result = c*d*i\n",
    "    print(result)\n",
    "        \n",
    "print(f'Final:{result}')\n",
    "    "
   ]
  },
  {
   "cell_type": "markdown",
   "id": "81c27f2a",
   "metadata": {},
   "source": [
    "Lec 04 Data type"
   ]
  },
  {
   "cell_type": "code",
   "execution_count": 19,
   "id": "d929ac0d",
   "metadata": {},
   "outputs": [
    {
     "name": "stdout",
     "output_type": "stream",
     "text": [
      "<class 'str'>\n"
     ]
    }
   ],
   "source": [
    "x = 'hellohello'\n",
    "print(type(x))"
   ]
  },
  {
   "cell_type": "markdown",
   "id": "73733b5d",
   "metadata": {},
   "source": [
    "Tipologie: str, int, float, bool, list, range, dict, set, tuple"
   ]
  },
  {
   "cell_type": "code",
   "execution_count": null,
   "id": "7617e3b7",
   "metadata": {},
   "outputs": [],
   "source": []
  }
 ],
 "metadata": {
  "kernelspec": {
   "display_name": "Python 3 (ipykernel)",
   "language": "python",
   "name": "python3"
  },
  "language_info": {
   "codemirror_mode": {
    "name": "ipython",
    "version": 3
   },
   "file_extension": ".py",
   "mimetype": "text/x-python",
   "name": "python",
   "nbconvert_exporter": "python",
   "pygments_lexer": "ipython3",
   "version": "3.11.5"
  }
 },
 "nbformat": 4,
 "nbformat_minor": 5
}
