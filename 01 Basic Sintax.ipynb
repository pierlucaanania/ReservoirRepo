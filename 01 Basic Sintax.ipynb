{
 "cells": [
  {
   "cell_type": "markdown",
   "id": "706294ac",
   "metadata": {},
   "source": [
    "Lec 02 Sintassi"
   ]
  },
  {
   "cell_type": "code",
   "execution_count": 1,
   "id": "23d3a304",
   "metadata": {},
   "outputs": [
    {
     "name": "stdout",
     "output_type": "stream",
     "text": [
      "Inserisci caratteri: Ciao\n",
      "Ciao\n"
     ]
    }
   ],
   "source": [
    "messaggio = input('Inserisci caratteri: ')\n",
    "\n",
    "print(messaggio)"
   ]
  },
  {
   "cell_type": "markdown",
   "id": "c9587908",
   "metadata": {},
   "source": [
    "Lec 03 Variabili"
   ]
  },
  {
   "cell_type": "code",
   "execution_count": null,
   "id": "a0de4090",
   "metadata": {},
   "outputs": [],
   "source": []
  }
 ],
 "metadata": {
  "kernelspec": {
   "display_name": "Python 3 (ipykernel)",
   "language": "python",
   "name": "python3"
  },
  "language_info": {
   "codemirror_mode": {
    "name": "ipython",
    "version": 3
   },
   "file_extension": ".py",
   "mimetype": "text/x-python",
   "name": "python",
   "nbconvert_exporter": "python",
   "pygments_lexer": "ipython3",
   "version": "3.11.5"
  }
 },
 "nbformat": 4,
 "nbformat_minor": 5
}
