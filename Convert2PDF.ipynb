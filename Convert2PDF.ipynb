{
 "cells": [
  {
   "cell_type": "code",
   "execution_count": null,
   "id": "a6bacb37",
   "metadata": {},
   "outputs": [],
   "source": [
    "'''Install Library'''\n",
    "!pip install pdf2docx"
   ]
  },
  {
   "cell_type": "code",
   "execution_count": null,
   "id": "d17b41a0",
   "metadata": {},
   "outputs": [],
   "source": [
    "from pdf2docx import Converter\n",
    "\n",
    "pdf_file = 'namefile.pdf'\n",
    "docx_file = 'namefile.docx'\n",
    "cv = Converter(pdf_file)\n",
    "cv.convert(docx_file)\n",
    "cv.close()"
   ]
  },
  {
   "cell_type": "code",
   "execution_count": null,
   "id": "cb1c036f",
   "metadata": {},
   "outputs": [],
   "source": []
  }
 ],
 "metadata": {
  "kernelspec": {
   "display_name": "Python 3 (ipykernel)",
   "language": "python",
   "name": "python3"
  },
  "language_info": {
   "codemirror_mode": {
    "name": "ipython",
    "version": 3
   },
   "file_extension": ".py",
   "mimetype": "text/x-python",
   "name": "python",
   "nbconvert_exporter": "python",
   "pygments_lexer": "ipython3",
   "version": "3.10.6"
  }
 },
 "nbformat": 4,
 "nbformat_minor": 5
}
